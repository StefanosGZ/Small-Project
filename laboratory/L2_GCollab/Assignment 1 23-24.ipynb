{
  "cells": [
    {
      "cell_type": "markdown",
      "metadata": {
        "id": "JV5YbbVNlCLl"
      },
      "source": [
        "# Avanced Automation - Assignment 1\n",
        "\n",
        "To be delivered until 2023-12-10 23:59:59."
      ]
    },
    {
      "cell_type": "markdown",
      "metadata": {
        "id": "A746fsNRldR4"
      },
      "source": [
        "## Section 1 -- Linear Regression\n",
        "\n",
        "**1.** Consider a dataset with 100 observations, containing a single predictor and a quantitative response. Two different models are fitted to the data, a linear regression ($m_1: Y = \\beta_0 + \\beta_1 X + \\epsilon$) and a cubic regression ($m_2: Y = \\beta_0 + \\beta_1 X + \\beta_2 X^2 + \\beta_3 X^3 + \\epsilon$)."
      ]
    },
    {
      "cell_type": "markdown",
      "metadata": {
        "id": "gOuCfx3sm8hZ"
      },
      "source": [
        "**1.a)** Suppose that the actual relation between X and Y is linear. Can the **training** residual sum of squares (RSS) of the linear model be expected to be smaller, larger or equal to the one from the cubic model? Or is there no information to tell? Justify your answer."
      ]
    },
    {
      "cell_type": "markdown",
      "source": [
        "The RSS of the linear model will probably be larger than that of the cubic model, since the cubic model will overfit and capture the noise that the training data has. It will adapt better to the training data."
      ],
      "metadata": {
        "id": "P-ewNM9Rz8-z"
      }
    },
    {
      "cell_type": "markdown",
      "metadata": {
        "id": "f-Z6e3nem88s"
      },
      "source": [
        "**1.b)** Answer question 1.a) considering the test RSS rather than the training RSS."
      ]
    },
    {
      "cell_type": "markdown",
      "metadata": {
        "id": "8Ng5yyIL7sUE"
      },
      "source": [
        "Since the cubic model will overfit the noise present in the training data, it won't generalize the test data, which doesn't have the same noise as the training one, very well. This will result in the cubic model having a larger RSS than the linear model. The simplicity of the linear model ignores the unwanted noise."
      ]
    },
    {
      "cell_type": "markdown",
      "metadata": {
        "id": "gmhX35ckm9St"
      },
      "source": [
        "**1.c)** Suppose that the actual relationship between X and Y is not linear, but it is not known how far it is from being linear. What is it expected of the the **training** RSS for the linear compared with the cubic models? Or is there not enough information? Justify your answer."
      ]
    },
    {
      "cell_type": "markdown",
      "source": [
        "The cubic model is more flexible than the linear model. Therefore it will adapt better than the linear model. For this reason, the cubic model will probably have a smaller RSS than the linear model."
      ],
      "metadata": {
        "id": "NOfCeYj644t6"
      }
    },
    {
      "cell_type": "markdown",
      "metadata": {
        "id": "68b9Gt-Sm9lp"
      },
      "source": [
        "**1.d)** Answer question 1.c) considering the test RSS rather than the training RSS."
      ]
    },
    {
      "cell_type": "markdown",
      "metadata": {
        "id": "FWjI9xe36tk2"
      },
      "source": [
        "For this situation, we do not have sufficient information to make any conclusions, as we do not have any information about the behaviour and complexity of the data."
      ]
    },
    {
      "cell_type": "markdown",
      "metadata": {
        "id": "tL5dB7eJz7yc"
      },
      "source": [
        "**2.** Consider now the Palmer Archipelago penguin data. It consists of physical measurements of male and female adult penguins from three species that live in three different islands of the Palmer Archipelago in Antarctica."
      ]
    },
    {
      "cell_type": "markdown",
      "metadata": {
        "id": "JlY6gihzHUm5"
      },
      "source": [
        "**2.a)** Load the dataset `penguins_size.csv`."
      ]
    },
    {
      "cell_type": "code",
      "execution_count": null,
      "metadata": {
        "id": "UJxs-3Vp9IhJ",
        "outputId": "62d5fa81-da5d-4e25-eaec-e2309b957427",
        "colab": {
          "base_uri": "https://localhost:8080/",
          "height": 206
        }
      },
      "outputs": [
        {
          "output_type": "execute_result",
          "data": {
            "text/plain": [
              "  species     island  culmen_length_mm  culmen_depth_mm  flipper_length_mm  \\\n",
              "0  Adelie  Torgersen              39.1             18.7              181.0   \n",
              "1  Adelie  Torgersen              39.5             17.4              186.0   \n",
              "2  Adelie  Torgersen              40.3             18.0              195.0   \n",
              "3  Adelie  Torgersen               NaN              NaN                NaN   \n",
              "4  Adelie  Torgersen              36.7             19.3              193.0   \n",
              "\n",
              "   body_mass_g     sex  \n",
              "0       3750.0    MALE  \n",
              "1       3800.0  FEMALE  \n",
              "2       3250.0  FEMALE  \n",
              "3          NaN     NaN  \n",
              "4       3450.0  FEMALE  "
            ],
            "text/html": [
              "\n",
              "  <div id=\"df-b54eb3e0-5649-48ab-a776-4d0c80f20623\" class=\"colab-df-container\">\n",
              "    <div>\n",
              "<style scoped>\n",
              "    .dataframe tbody tr th:only-of-type {\n",
              "        vertical-align: middle;\n",
              "    }\n",
              "\n",
              "    .dataframe tbody tr th {\n",
              "        vertical-align: top;\n",
              "    }\n",
              "\n",
              "    .dataframe thead th {\n",
              "        text-align: right;\n",
              "    }\n",
              "</style>\n",
              "<table border=\"1\" class=\"dataframe\">\n",
              "  <thead>\n",
              "    <tr style=\"text-align: right;\">\n",
              "      <th></th>\n",
              "      <th>species</th>\n",
              "      <th>island</th>\n",
              "      <th>culmen_length_mm</th>\n",
              "      <th>culmen_depth_mm</th>\n",
              "      <th>flipper_length_mm</th>\n",
              "      <th>body_mass_g</th>\n",
              "      <th>sex</th>\n",
              "    </tr>\n",
              "  </thead>\n",
              "  <tbody>\n",
              "    <tr>\n",
              "      <th>0</th>\n",
              "      <td>Adelie</td>\n",
              "      <td>Torgersen</td>\n",
              "      <td>39.1</td>\n",
              "      <td>18.7</td>\n",
              "      <td>181.0</td>\n",
              "      <td>3750.0</td>\n",
              "      <td>MALE</td>\n",
              "    </tr>\n",
              "    <tr>\n",
              "      <th>1</th>\n",
              "      <td>Adelie</td>\n",
              "      <td>Torgersen</td>\n",
              "      <td>39.5</td>\n",
              "      <td>17.4</td>\n",
              "      <td>186.0</td>\n",
              "      <td>3800.0</td>\n",
              "      <td>FEMALE</td>\n",
              "    </tr>\n",
              "    <tr>\n",
              "      <th>2</th>\n",
              "      <td>Adelie</td>\n",
              "      <td>Torgersen</td>\n",
              "      <td>40.3</td>\n",
              "      <td>18.0</td>\n",
              "      <td>195.0</td>\n",
              "      <td>3250.0</td>\n",
              "      <td>FEMALE</td>\n",
              "    </tr>\n",
              "    <tr>\n",
              "      <th>3</th>\n",
              "      <td>Adelie</td>\n",
              "      <td>Torgersen</td>\n",
              "      <td>NaN</td>\n",
              "      <td>NaN</td>\n",
              "      <td>NaN</td>\n",
              "      <td>NaN</td>\n",
              "      <td>NaN</td>\n",
              "    </tr>\n",
              "    <tr>\n",
              "      <th>4</th>\n",
              "      <td>Adelie</td>\n",
              "      <td>Torgersen</td>\n",
              "      <td>36.7</td>\n",
              "      <td>19.3</td>\n",
              "      <td>193.0</td>\n",
              "      <td>3450.0</td>\n",
              "      <td>FEMALE</td>\n",
              "    </tr>\n",
              "  </tbody>\n",
              "</table>\n",
              "</div>\n",
              "    <div class=\"colab-df-buttons\">\n",
              "\n",
              "  <div class=\"colab-df-container\">\n",
              "    <button class=\"colab-df-convert\" onclick=\"convertToInteractive('df-b54eb3e0-5649-48ab-a776-4d0c80f20623')\"\n",
              "            title=\"Convert this dataframe to an interactive table.\"\n",
              "            style=\"display:none;\">\n",
              "\n",
              "  <svg xmlns=\"http://www.w3.org/2000/svg\" height=\"24px\" viewBox=\"0 -960 960 960\">\n",
              "    <path d=\"M120-120v-720h720v720H120Zm60-500h600v-160H180v160Zm220 220h160v-160H400v160Zm0 220h160v-160H400v160ZM180-400h160v-160H180v160Zm440 0h160v-160H620v160ZM180-180h160v-160H180v160Zm440 0h160v-160H620v160Z\"/>\n",
              "  </svg>\n",
              "    </button>\n",
              "\n",
              "  <style>\n",
              "    .colab-df-container {\n",
              "      display:flex;\n",
              "      gap: 12px;\n",
              "    }\n",
              "\n",
              "    .colab-df-convert {\n",
              "      background-color: #E8F0FE;\n",
              "      border: none;\n",
              "      border-radius: 50%;\n",
              "      cursor: pointer;\n",
              "      display: none;\n",
              "      fill: #1967D2;\n",
              "      height: 32px;\n",
              "      padding: 0 0 0 0;\n",
              "      width: 32px;\n",
              "    }\n",
              "\n",
              "    .colab-df-convert:hover {\n",
              "      background-color: #E2EBFA;\n",
              "      box-shadow: 0px 1px 2px rgba(60, 64, 67, 0.3), 0px 1px 3px 1px rgba(60, 64, 67, 0.15);\n",
              "      fill: #174EA6;\n",
              "    }\n",
              "\n",
              "    .colab-df-buttons div {\n",
              "      margin-bottom: 4px;\n",
              "    }\n",
              "\n",
              "    [theme=dark] .colab-df-convert {\n",
              "      background-color: #3B4455;\n",
              "      fill: #D2E3FC;\n",
              "    }\n",
              "\n",
              "    [theme=dark] .colab-df-convert:hover {\n",
              "      background-color: #434B5C;\n",
              "      box-shadow: 0px 1px 3px 1px rgba(0, 0, 0, 0.15);\n",
              "      filter: drop-shadow(0px 1px 2px rgba(0, 0, 0, 0.3));\n",
              "      fill: #FFFFFF;\n",
              "    }\n",
              "  </style>\n",
              "\n",
              "    <script>\n",
              "      const buttonEl =\n",
              "        document.querySelector('#df-b54eb3e0-5649-48ab-a776-4d0c80f20623 button.colab-df-convert');\n",
              "      buttonEl.style.display =\n",
              "        google.colab.kernel.accessAllowed ? 'block' : 'none';\n",
              "\n",
              "      async function convertToInteractive(key) {\n",
              "        const element = document.querySelector('#df-b54eb3e0-5649-48ab-a776-4d0c80f20623');\n",
              "        const dataTable =\n",
              "          await google.colab.kernel.invokeFunction('convertToInteractive',\n",
              "                                                    [key], {});\n",
              "        if (!dataTable) return;\n",
              "\n",
              "        const docLinkHtml = 'Like what you see? Visit the ' +\n",
              "          '<a target=\"_blank\" href=https://colab.research.google.com/notebooks/data_table.ipynb>data table notebook</a>'\n",
              "          + ' to learn more about interactive tables.';\n",
              "        element.innerHTML = '';\n",
              "        dataTable['output_type'] = 'display_data';\n",
              "        await google.colab.output.renderOutput(dataTable, element);\n",
              "        const docLink = document.createElement('div');\n",
              "        docLink.innerHTML = docLinkHtml;\n",
              "        element.appendChild(docLink);\n",
              "      }\n",
              "    </script>\n",
              "  </div>\n",
              "\n",
              "\n",
              "<div id=\"df-9ebd2718-2bfd-401d-8b6f-3f18b6823869\">\n",
              "  <button class=\"colab-df-quickchart\" onclick=\"quickchart('df-9ebd2718-2bfd-401d-8b6f-3f18b6823869')\"\n",
              "            title=\"Suggest charts\"\n",
              "            style=\"display:none;\">\n",
              "\n",
              "<svg xmlns=\"http://www.w3.org/2000/svg\" height=\"24px\"viewBox=\"0 0 24 24\"\n",
              "     width=\"24px\">\n",
              "    <g>\n",
              "        <path d=\"M19 3H5c-1.1 0-2 .9-2 2v14c0 1.1.9 2 2 2h14c1.1 0 2-.9 2-2V5c0-1.1-.9-2-2-2zM9 17H7v-7h2v7zm4 0h-2V7h2v10zm4 0h-2v-4h2v4z\"/>\n",
              "    </g>\n",
              "</svg>\n",
              "  </button>\n",
              "\n",
              "<style>\n",
              "  .colab-df-quickchart {\n",
              "      --bg-color: #E8F0FE;\n",
              "      --fill-color: #1967D2;\n",
              "      --hover-bg-color: #E2EBFA;\n",
              "      --hover-fill-color: #174EA6;\n",
              "      --disabled-fill-color: #AAA;\n",
              "      --disabled-bg-color: #DDD;\n",
              "  }\n",
              "\n",
              "  [theme=dark] .colab-df-quickchart {\n",
              "      --bg-color: #3B4455;\n",
              "      --fill-color: #D2E3FC;\n",
              "      --hover-bg-color: #434B5C;\n",
              "      --hover-fill-color: #FFFFFF;\n",
              "      --disabled-bg-color: #3B4455;\n",
              "      --disabled-fill-color: #666;\n",
              "  }\n",
              "\n",
              "  .colab-df-quickchart {\n",
              "    background-color: var(--bg-color);\n",
              "    border: none;\n",
              "    border-radius: 50%;\n",
              "    cursor: pointer;\n",
              "    display: none;\n",
              "    fill: var(--fill-color);\n",
              "    height: 32px;\n",
              "    padding: 0;\n",
              "    width: 32px;\n",
              "  }\n",
              "\n",
              "  .colab-df-quickchart:hover {\n",
              "    background-color: var(--hover-bg-color);\n",
              "    box-shadow: 0 1px 2px rgba(60, 64, 67, 0.3), 0 1px 3px 1px rgba(60, 64, 67, 0.15);\n",
              "    fill: var(--button-hover-fill-color);\n",
              "  }\n",
              "\n",
              "  .colab-df-quickchart-complete:disabled,\n",
              "  .colab-df-quickchart-complete:disabled:hover {\n",
              "    background-color: var(--disabled-bg-color);\n",
              "    fill: var(--disabled-fill-color);\n",
              "    box-shadow: none;\n",
              "  }\n",
              "\n",
              "  .colab-df-spinner {\n",
              "    border: 2px solid var(--fill-color);\n",
              "    border-color: transparent;\n",
              "    border-bottom-color: var(--fill-color);\n",
              "    animation:\n",
              "      spin 1s steps(1) infinite;\n",
              "  }\n",
              "\n",
              "  @keyframes spin {\n",
              "    0% {\n",
              "      border-color: transparent;\n",
              "      border-bottom-color: var(--fill-color);\n",
              "      border-left-color: var(--fill-color);\n",
              "    }\n",
              "    20% {\n",
              "      border-color: transparent;\n",
              "      border-left-color: var(--fill-color);\n",
              "      border-top-color: var(--fill-color);\n",
              "    }\n",
              "    30% {\n",
              "      border-color: transparent;\n",
              "      border-left-color: var(--fill-color);\n",
              "      border-top-color: var(--fill-color);\n",
              "      border-right-color: var(--fill-color);\n",
              "    }\n",
              "    40% {\n",
              "      border-color: transparent;\n",
              "      border-right-color: var(--fill-color);\n",
              "      border-top-color: var(--fill-color);\n",
              "    }\n",
              "    60% {\n",
              "      border-color: transparent;\n",
              "      border-right-color: var(--fill-color);\n",
              "    }\n",
              "    80% {\n",
              "      border-color: transparent;\n",
              "      border-right-color: var(--fill-color);\n",
              "      border-bottom-color: var(--fill-color);\n",
              "    }\n",
              "    90% {\n",
              "      border-color: transparent;\n",
              "      border-bottom-color: var(--fill-color);\n",
              "    }\n",
              "  }\n",
              "</style>\n",
              "\n",
              "  <script>\n",
              "    async function quickchart(key) {\n",
              "      const quickchartButtonEl =\n",
              "        document.querySelector('#' + key + ' button');\n",
              "      quickchartButtonEl.disabled = true;  // To prevent multiple clicks.\n",
              "      quickchartButtonEl.classList.add('colab-df-spinner');\n",
              "      try {\n",
              "        const charts = await google.colab.kernel.invokeFunction(\n",
              "            'suggestCharts', [key], {});\n",
              "      } catch (error) {\n",
              "        console.error('Error during call to suggestCharts:', error);\n",
              "      }\n",
              "      quickchartButtonEl.classList.remove('colab-df-spinner');\n",
              "      quickchartButtonEl.classList.add('colab-df-quickchart-complete');\n",
              "    }\n",
              "    (() => {\n",
              "      let quickchartButtonEl =\n",
              "        document.querySelector('#df-9ebd2718-2bfd-401d-8b6f-3f18b6823869 button');\n",
              "      quickchartButtonEl.style.display =\n",
              "        google.colab.kernel.accessAllowed ? 'block' : 'none';\n",
              "    })();\n",
              "  </script>\n",
              "</div>\n",
              "    </div>\n",
              "  </div>\n"
            ]
          },
          "metadata": {},
          "execution_count": 15
        }
      ],
      "source": [
        "import pandas as pd\n",
        "df = pd.read_csv(\"penguins_size.csv\")\n",
        "df.head()"
      ]
    },
    {
      "cell_type": "markdown",
      "metadata": {
        "id": "pJ-WcVUUz7yd"
      },
      "source": [
        "**2.b)** Discard any row that has a missing value."
      ]
    },
    {
      "cell_type": "code",
      "execution_count": null,
      "metadata": {
        "id": "UbpIBahwz7yd",
        "outputId": "bdd7202f-8149-4174-c0a3-5a51524f69ea",
        "colab": {
          "base_uri": "https://localhost:8080/",
          "height": 206
        }
      },
      "outputs": [
        {
          "output_type": "execute_result",
          "data": {
            "text/plain": [
              "  species     island  culmen_length_mm  culmen_depth_mm  flipper_length_mm  \\\n",
              "0  Adelie  Torgersen              39.1             18.7              181.0   \n",
              "1  Adelie  Torgersen              39.5             17.4              186.0   \n",
              "2  Adelie  Torgersen              40.3             18.0              195.0   \n",
              "4  Adelie  Torgersen              36.7             19.3              193.0   \n",
              "5  Adelie  Torgersen              39.3             20.6              190.0   \n",
              "\n",
              "   body_mass_g     sex  \n",
              "0       3750.0    MALE  \n",
              "1       3800.0  FEMALE  \n",
              "2       3250.0  FEMALE  \n",
              "4       3450.0  FEMALE  \n",
              "5       3650.0    MALE  "
            ],
            "text/html": [
              "\n",
              "  <div id=\"df-dffcde98-fa57-4772-b2ba-588ea02051b6\" class=\"colab-df-container\">\n",
              "    <div>\n",
              "<style scoped>\n",
              "    .dataframe tbody tr th:only-of-type {\n",
              "        vertical-align: middle;\n",
              "    }\n",
              "\n",
              "    .dataframe tbody tr th {\n",
              "        vertical-align: top;\n",
              "    }\n",
              "\n",
              "    .dataframe thead th {\n",
              "        text-align: right;\n",
              "    }\n",
              "</style>\n",
              "<table border=\"1\" class=\"dataframe\">\n",
              "  <thead>\n",
              "    <tr style=\"text-align: right;\">\n",
              "      <th></th>\n",
              "      <th>species</th>\n",
              "      <th>island</th>\n",
              "      <th>culmen_length_mm</th>\n",
              "      <th>culmen_depth_mm</th>\n",
              "      <th>flipper_length_mm</th>\n",
              "      <th>body_mass_g</th>\n",
              "      <th>sex</th>\n",
              "    </tr>\n",
              "  </thead>\n",
              "  <tbody>\n",
              "    <tr>\n",
              "      <th>0</th>\n",
              "      <td>Adelie</td>\n",
              "      <td>Torgersen</td>\n",
              "      <td>39.1</td>\n",
              "      <td>18.7</td>\n",
              "      <td>181.0</td>\n",
              "      <td>3750.0</td>\n",
              "      <td>MALE</td>\n",
              "    </tr>\n",
              "    <tr>\n",
              "      <th>1</th>\n",
              "      <td>Adelie</td>\n",
              "      <td>Torgersen</td>\n",
              "      <td>39.5</td>\n",
              "      <td>17.4</td>\n",
              "      <td>186.0</td>\n",
              "      <td>3800.0</td>\n",
              "      <td>FEMALE</td>\n",
              "    </tr>\n",
              "    <tr>\n",
              "      <th>2</th>\n",
              "      <td>Adelie</td>\n",
              "      <td>Torgersen</td>\n",
              "      <td>40.3</td>\n",
              "      <td>18.0</td>\n",
              "      <td>195.0</td>\n",
              "      <td>3250.0</td>\n",
              "      <td>FEMALE</td>\n",
              "    </tr>\n",
              "    <tr>\n",
              "      <th>4</th>\n",
              "      <td>Adelie</td>\n",
              "      <td>Torgersen</td>\n",
              "      <td>36.7</td>\n",
              "      <td>19.3</td>\n",
              "      <td>193.0</td>\n",
              "      <td>3450.0</td>\n",
              "      <td>FEMALE</td>\n",
              "    </tr>\n",
              "    <tr>\n",
              "      <th>5</th>\n",
              "      <td>Adelie</td>\n",
              "      <td>Torgersen</td>\n",
              "      <td>39.3</td>\n",
              "      <td>20.6</td>\n",
              "      <td>190.0</td>\n",
              "      <td>3650.0</td>\n",
              "      <td>MALE</td>\n",
              "    </tr>\n",
              "  </tbody>\n",
              "</table>\n",
              "</div>\n",
              "    <div class=\"colab-df-buttons\">\n",
              "\n",
              "  <div class=\"colab-df-container\">\n",
              "    <button class=\"colab-df-convert\" onclick=\"convertToInteractive('df-dffcde98-fa57-4772-b2ba-588ea02051b6')\"\n",
              "            title=\"Convert this dataframe to an interactive table.\"\n",
              "            style=\"display:none;\">\n",
              "\n",
              "  <svg xmlns=\"http://www.w3.org/2000/svg\" height=\"24px\" viewBox=\"0 -960 960 960\">\n",
              "    <path d=\"M120-120v-720h720v720H120Zm60-500h600v-160H180v160Zm220 220h160v-160H400v160Zm0 220h160v-160H400v160ZM180-400h160v-160H180v160Zm440 0h160v-160H620v160ZM180-180h160v-160H180v160Zm440 0h160v-160H620v160Z\"/>\n",
              "  </svg>\n",
              "    </button>\n",
              "\n",
              "  <style>\n",
              "    .colab-df-container {\n",
              "      display:flex;\n",
              "      gap: 12px;\n",
              "    }\n",
              "\n",
              "    .colab-df-convert {\n",
              "      background-color: #E8F0FE;\n",
              "      border: none;\n",
              "      border-radius: 50%;\n",
              "      cursor: pointer;\n",
              "      display: none;\n",
              "      fill: #1967D2;\n",
              "      height: 32px;\n",
              "      padding: 0 0 0 0;\n",
              "      width: 32px;\n",
              "    }\n",
              "\n",
              "    .colab-df-convert:hover {\n",
              "      background-color: #E2EBFA;\n",
              "      box-shadow: 0px 1px 2px rgba(60, 64, 67, 0.3), 0px 1px 3px 1px rgba(60, 64, 67, 0.15);\n",
              "      fill: #174EA6;\n",
              "    }\n",
              "\n",
              "    .colab-df-buttons div {\n",
              "      margin-bottom: 4px;\n",
              "    }\n",
              "\n",
              "    [theme=dark] .colab-df-convert {\n",
              "      background-color: #3B4455;\n",
              "      fill: #D2E3FC;\n",
              "    }\n",
              "\n",
              "    [theme=dark] .colab-df-convert:hover {\n",
              "      background-color: #434B5C;\n",
              "      box-shadow: 0px 1px 3px 1px rgba(0, 0, 0, 0.15);\n",
              "      filter: drop-shadow(0px 1px 2px rgba(0, 0, 0, 0.3));\n",
              "      fill: #FFFFFF;\n",
              "    }\n",
              "  </style>\n",
              "\n",
              "    <script>\n",
              "      const buttonEl =\n",
              "        document.querySelector('#df-dffcde98-fa57-4772-b2ba-588ea02051b6 button.colab-df-convert');\n",
              "      buttonEl.style.display =\n",
              "        google.colab.kernel.accessAllowed ? 'block' : 'none';\n",
              "\n",
              "      async function convertToInteractive(key) {\n",
              "        const element = document.querySelector('#df-dffcde98-fa57-4772-b2ba-588ea02051b6');\n",
              "        const dataTable =\n",
              "          await google.colab.kernel.invokeFunction('convertToInteractive',\n",
              "                                                    [key], {});\n",
              "        if (!dataTable) return;\n",
              "\n",
              "        const docLinkHtml = 'Like what you see? Visit the ' +\n",
              "          '<a target=\"_blank\" href=https://colab.research.google.com/notebooks/data_table.ipynb>data table notebook</a>'\n",
              "          + ' to learn more about interactive tables.';\n",
              "        element.innerHTML = '';\n",
              "        dataTable['output_type'] = 'display_data';\n",
              "        await google.colab.output.renderOutput(dataTable, element);\n",
              "        const docLink = document.createElement('div');\n",
              "        docLink.innerHTML = docLinkHtml;\n",
              "        element.appendChild(docLink);\n",
              "      }\n",
              "    </script>\n",
              "  </div>\n",
              "\n",
              "\n",
              "<div id=\"df-0a6ccefd-e676-49c6-aedb-fb55ca3b1142\">\n",
              "  <button class=\"colab-df-quickchart\" onclick=\"quickchart('df-0a6ccefd-e676-49c6-aedb-fb55ca3b1142')\"\n",
              "            title=\"Suggest charts\"\n",
              "            style=\"display:none;\">\n",
              "\n",
              "<svg xmlns=\"http://www.w3.org/2000/svg\" height=\"24px\"viewBox=\"0 0 24 24\"\n",
              "     width=\"24px\">\n",
              "    <g>\n",
              "        <path d=\"M19 3H5c-1.1 0-2 .9-2 2v14c0 1.1.9 2 2 2h14c1.1 0 2-.9 2-2V5c0-1.1-.9-2-2-2zM9 17H7v-7h2v7zm4 0h-2V7h2v10zm4 0h-2v-4h2v4z\"/>\n",
              "    </g>\n",
              "</svg>\n",
              "  </button>\n",
              "\n",
              "<style>\n",
              "  .colab-df-quickchart {\n",
              "      --bg-color: #E8F0FE;\n",
              "      --fill-color: #1967D2;\n",
              "      --hover-bg-color: #E2EBFA;\n",
              "      --hover-fill-color: #174EA6;\n",
              "      --disabled-fill-color: #AAA;\n",
              "      --disabled-bg-color: #DDD;\n",
              "  }\n",
              "\n",
              "  [theme=dark] .colab-df-quickchart {\n",
              "      --bg-color: #3B4455;\n",
              "      --fill-color: #D2E3FC;\n",
              "      --hover-bg-color: #434B5C;\n",
              "      --hover-fill-color: #FFFFFF;\n",
              "      --disabled-bg-color: #3B4455;\n",
              "      --disabled-fill-color: #666;\n",
              "  }\n",
              "\n",
              "  .colab-df-quickchart {\n",
              "    background-color: var(--bg-color);\n",
              "    border: none;\n",
              "    border-radius: 50%;\n",
              "    cursor: pointer;\n",
              "    display: none;\n",
              "    fill: var(--fill-color);\n",
              "    height: 32px;\n",
              "    padding: 0;\n",
              "    width: 32px;\n",
              "  }\n",
              "\n",
              "  .colab-df-quickchart:hover {\n",
              "    background-color: var(--hover-bg-color);\n",
              "    box-shadow: 0 1px 2px rgba(60, 64, 67, 0.3), 0 1px 3px 1px rgba(60, 64, 67, 0.15);\n",
              "    fill: var(--button-hover-fill-color);\n",
              "  }\n",
              "\n",
              "  .colab-df-quickchart-complete:disabled,\n",
              "  .colab-df-quickchart-complete:disabled:hover {\n",
              "    background-color: var(--disabled-bg-color);\n",
              "    fill: var(--disabled-fill-color);\n",
              "    box-shadow: none;\n",
              "  }\n",
              "\n",
              "  .colab-df-spinner {\n",
              "    border: 2px solid var(--fill-color);\n",
              "    border-color: transparent;\n",
              "    border-bottom-color: var(--fill-color);\n",
              "    animation:\n",
              "      spin 1s steps(1) infinite;\n",
              "  }\n",
              "\n",
              "  @keyframes spin {\n",
              "    0% {\n",
              "      border-color: transparent;\n",
              "      border-bottom-color: var(--fill-color);\n",
              "      border-left-color: var(--fill-color);\n",
              "    }\n",
              "    20% {\n",
              "      border-color: transparent;\n",
              "      border-left-color: var(--fill-color);\n",
              "      border-top-color: var(--fill-color);\n",
              "    }\n",
              "    30% {\n",
              "      border-color: transparent;\n",
              "      border-left-color: var(--fill-color);\n",
              "      border-top-color: var(--fill-color);\n",
              "      border-right-color: var(--fill-color);\n",
              "    }\n",
              "    40% {\n",
              "      border-color: transparent;\n",
              "      border-right-color: var(--fill-color);\n",
              "      border-top-color: var(--fill-color);\n",
              "    }\n",
              "    60% {\n",
              "      border-color: transparent;\n",
              "      border-right-color: var(--fill-color);\n",
              "    }\n",
              "    80% {\n",
              "      border-color: transparent;\n",
              "      border-right-color: var(--fill-color);\n",
              "      border-bottom-color: var(--fill-color);\n",
              "    }\n",
              "    90% {\n",
              "      border-color: transparent;\n",
              "      border-bottom-color: var(--fill-color);\n",
              "    }\n",
              "  }\n",
              "</style>\n",
              "\n",
              "  <script>\n",
              "    async function quickchart(key) {\n",
              "      const quickchartButtonEl =\n",
              "        document.querySelector('#' + key + ' button');\n",
              "      quickchartButtonEl.disabled = true;  // To prevent multiple clicks.\n",
              "      quickchartButtonEl.classList.add('colab-df-spinner');\n",
              "      try {\n",
              "        const charts = await google.colab.kernel.invokeFunction(\n",
              "            'suggestCharts', [key], {});\n",
              "      } catch (error) {\n",
              "        console.error('Error during call to suggestCharts:', error);\n",
              "      }\n",
              "      quickchartButtonEl.classList.remove('colab-df-spinner');\n",
              "      quickchartButtonEl.classList.add('colab-df-quickchart-complete');\n",
              "    }\n",
              "    (() => {\n",
              "      let quickchartButtonEl =\n",
              "        document.querySelector('#df-0a6ccefd-e676-49c6-aedb-fb55ca3b1142 button');\n",
              "      quickchartButtonEl.style.display =\n",
              "        google.colab.kernel.accessAllowed ? 'block' : 'none';\n",
              "    })();\n",
              "  </script>\n",
              "</div>\n",
              "    </div>\n",
              "  </div>\n"
            ]
          },
          "metadata": {},
          "execution_count": 16
        }
      ],
      "source": [
        "df = df.dropna()\n",
        "df.head()"
      ]
    },
    {
      "cell_type": "markdown",
      "metadata": {
        "id": "jj5B5vV5z7yd"
      },
      "source": [
        "**2.c)** How many penguins of each `species` and `sex` live in each `island`? Answer this question with `pandas`."
      ]
    },
    {
      "cell_type": "code",
      "execution_count": null,
      "metadata": {
        "id": "zigXJG_Rz7yd",
        "outputId": "fb58211d-b141-42c0-875c-dfc379fb8a9f",
        "colab": {
          "base_uri": "https://localhost:8080/"
        }
      },
      "outputs": [
        {
          "output_type": "stream",
          "name": "stdout",
          "text": [
            "Adelie       146\n",
            "Gentoo       119\n",
            "Chinstrap     68\n",
            "Name: species, dtype: int64\n",
            "MALE      168\n",
            "FEMALE    165\n",
            "Name: sex, dtype: int64\n"
          ]
        }
      ],
      "source": [
        "count_species = df['species'].value_counts()\n",
        "print(count_species)\n",
        "count_sex = df['sex'].value_counts()\n",
        "print(count_sex)"
      ]
    },
    {
      "cell_type": "markdown",
      "metadata": {
        "id": "aaWobz3Zz7yd"
      },
      "source": [
        "**2.d)** Plot a correlation matrix of the numerical columns (with a statistical significance of 0.1%)."
      ]
    },
    {
      "cell_type": "code",
      "execution_count": null,
      "metadata": {
        "id": "hzrcMrqQz7yd",
        "outputId": "f09171bf-f257-41f8-c335-06d0f74871c3",
        "colab": {
          "base_uri": "https://localhost:8080/",
          "height": 748
        }
      },
      "outputs": [
        {
          "output_type": "stream",
          "name": "stderr",
          "text": [
            "<ipython-input-19-c0afe20606d0>:12: FutureWarning: The default value of numeric_only in DataFrame.corr is deprecated. In a future version, it will default to False. Select only valid columns or specify the value of numeric_only to silence this warning.\n",
            "  pvals = df.corr(method=lambda x,y: pearsonr(x,y)[1])\n"
          ]
        },
        {
          "output_type": "execute_result",
          "data": {
            "text/plain": [
              "<Axes: >"
            ]
          },
          "metadata": {},
          "execution_count": 19
        },
        {
          "output_type": "display_data",
          "data": {
            "text/plain": [
              "<Figure size 1200x800 with 2 Axes>"
            ],
            "image/png": "[encoded data removed]"
          },
          "metadata": {}
        }
      ],
      "source": [
        "import matplotlib.pyplot as plt\n",
        "import seaborn as sns\n",
        "from scipy.stats import pearsonr\n",
        "\n",
        "# Filtra apenas as colunas numéricas\n",
        "df_numeric = df.select_dtypes(include=['float64', 'int64'])\n",
        "\n",
        "## Calculate the pairwise correaltions\n",
        "df_corrs = df_numeric.corr()\n",
        "\n",
        "## Calculate the p-values between the columns of the dataframe\n",
        "pvals = df.corr(method=lambda x,y: pearsonr(x,y)[1])\n",
        "\n",
        "## Create a mask, specifying the statistical significance\n",
        "ptg = 0.1/100\n",
        "mask = pvals > ptg\n",
        "\n",
        "## Plot the graph\n",
        "plt.subplots(figsize=(12, 8))\n",
        "sns.heatmap(df_corrs, mask=mask, square=True, annot=True, cmap=\"coolwarm\")"
      ]
    },
    {
      "cell_type": "markdown",
      "metadata": {
        "id": "BM90R_i8OCik"
      },
      "source": [
        "**2.e)** Perform a simple linear regression considering `body_mass_g` as the response and `flipper_length_mm` as the predictor. Print the obtained model and the $R^2$. Explain why this is a good choice of predictor."
      ]
    },
    {
      "cell_type": "code",
      "execution_count": null,
      "metadata": {
        "id": "teI35X_p9TAM",
        "outputId": "13b2de46-6a4f-4586-fd1e-08503ee22b14",
        "colab": {
          "base_uri": "https://localhost:8080/"
        }
      },
      "outputs": [
        {
          "output_type": "stream",
          "name": "stdout",
          "text": [
            "body_mass_g = -5872.0927 + 50.1533 * flipper_length_mm\n",
            "R^2: 0.7621\n"
          ]
        }
      ],
      "source": [
        "from sklearn.linear_model import LinearRegression\n",
        "from sklearn.metrics import r2_score\n",
        "\n",
        "## Assign the predictor and response to variables. To fit the data, the pandas dataframe must be converted into a numpy\n",
        "## array in a matricial shape, even if with a single column\n",
        "X = df['flipper_length_mm'].values.reshape(-1, 1)\n",
        "Y = df['body_mass_g'].values.reshape(-1, 1)\n",
        "\n",
        "## Initialize the model as a LinearRegression() function, and fit the data to it\n",
        "regr = LinearRegression()\n",
        "regr.fit(X, Y)\n",
        "\n",
        "## Print the interception and coefficient\n",
        "print('body_mass_g = {:.4f} + {:.4f} * flipper_length_mm'.format(regr.intercept_[0], regr.coef_[0][0]))\n",
        "\n",
        "## To calculate the R^2 score, the prediction of medv is calculate using the predict method.\n",
        "body_mass_g_pred = regr.predict(X)\n",
        "r2_value = r2_score(Y, body_mass_g_pred)\n",
        "print('R^2: {:.4f}'.format(r2_value))"
      ]
    },
    {
      "cell_type": "markdown",
      "source": [
        "By analysing the obtained $R^2$ value, we can infer that, as it is close to 1, there is a somewhat strong correlation between the two variables. Therefore, it is safe to assume that a penguin's flipper length influences its body mass."
      ],
      "metadata": {
        "id": "ggqIc-7TSVQh"
      }
    },
    {
      "cell_type": "markdown",
      "metadata": {
        "id": "yRYL0_TeQQfp"
      },
      "source": [
        "**2.f)** Plot a scatter plot of the response and predictor, along with the regression line."
      ]
    },
    {
      "cell_type": "code",
      "execution_count": null,
      "metadata": {
        "id": "S7QpN6n1APVa",
        "outputId": "7a50843f-03bc-4b55-d2e8-59989891c75d",
        "colab": {
          "base_uri": "https://localhost:8080/",
          "height": 522
        }
      },
      "outputs": [
        {
          "output_type": "display_data",
          "data": {
            "text/plain": [
              "<Figure size 1500x600 with 1 Axes>"
            ],
            "image/png": "[encoded data removed]"
          },
          "metadata": {}
        }
      ],
      "source": [
        "import numpy as np\n",
        "\n",
        "## Determine limits (min/max) of lstat and calculate the corresponding value of medv. Important: this can be done between\n",
        "## only two points because this is a linear regression.\n",
        "limits_flipper_length_mm = np.array([min(X), max(X)])\n",
        "body_mass_g_vals = regr.intercept_[0] + regr.coef_[0][0]* limits_flipper_length_mm\n",
        "\n",
        "## Plot the scatterplot and the regression line\n",
        "plt.rcParams['figure.figsize'] = [15, 6]\n",
        "plt.plot(df['flipper_length_mm'], df['body_mass_g'], '.r')\n",
        "plt.plot(limits_flipper_length_mm,body_mass_g_vals, 'b-')\n",
        "plt.show()"
      ]
    },
    {
      "cell_type": "markdown",
      "metadata": {
        "id": "1RLE5ILlz7ye"
      },
      "source": [
        "**2.g)** A baby penguin has a flipper length of around 50 mm. What is the predicted value of the body mass of a baby penguin? Comment on the prediction of the model."
      ]
    },
    {
      "cell_type": "code",
      "execution_count": null,
      "metadata": {
        "id": "9SgR6NXRz7ye",
        "colab": {
          "base_uri": "https://localhost:8080/"
        },
        "outputId": "593bcd0a-ca7d-4819-d958-6c035b936539"
      },
      "outputs": [
        {
          "output_type": "stream",
          "name": "stdout",
          "text": [
            "-3364.4294 g\n"
          ]
        }
      ],
      "source": [
        "body_mass_g = regr.intercept_[0] + regr.coef_[0][0] * 50\n",
        "print('{:.4f} g'.format(body_mass_g))"
      ]
    },
    {
      "cell_type": "markdown",
      "source": [
        "The predicted value is absurd. While the Linear Regression is useful in providing a correlation between the penguins' body mass and their flipper length, it is based on the available data. Since 50 mm is an outlier when compared with the rest of the values, this method fails to predict the body mass of the penguin, returning an impossible result."
      ],
      "metadata": {
        "id": "lKEUhwqjU06h"
      }
    },
    {
      "cell_type": "markdown",
      "metadata": {
        "id": "vTbxOKnaz7ye"
      },
      "source": [
        "**2.h)** Perform a multiple linear regression considering `body_mass_g` as the response and using all numerical predictors. Compare the $R^2$ of the simple linear regression model and the multiple linear regression model."
      ]
    },
    {
      "cell_type": "code",
      "execution_count": null,
      "metadata": {
        "id": "it0HslRuz7ye",
        "colab": {
          "base_uri": "https://localhost:8080/"
        },
        "outputId": "f0338bbe-bd2b-415b-baa5-6d8ccee3d201"
      },
      "outputs": [
        {
          "output_type": "stream",
          "name": "stdout",
          "text": [
            "intrcpt :: -6445.4760\n",
            "culmen_length_mm :: 3.2929\n",
            "culmen_depth_mm :: 17.8364\n",
            "flipper_length_mm :: 50.7621\n",
            "\n",
            "    R^2 :: 0.7639\n"
          ]
        }
      ],
      "source": [
        "from sklearn.linear_model import LinearRegression\n",
        "from sklearn.metrics import r2_score\n",
        "\n",
        "## Assign the predictor and response to variables. To fit the data, the pandas dataframe must be converted into a numpy\n",
        "## array in a matricial shape, even if with a single column\n",
        "numeric_columns = df.select_dtypes(include=['float64', 'int64']).columns\n",
        "X_df = df[numeric_columns].drop(columns=['body_mass_g'])\n",
        "X = X_df.values\n",
        "y = df['body_mass_g'].values.reshape(-1, 1)\n",
        "\n",
        "## Initialize the model as a LinearRegression() function, and fit the data to it\n",
        "regr = LinearRegression()\n",
        "regr.fit(X, y)\n",
        "\n",
        "## Format and print the interception and coefficientSs\n",
        "values = list(regr.coef_[0])\n",
        "values.insert(0, regr.intercept_[0])\n",
        "names = list(X_df.columns.values)\n",
        "names.insert(0,'intrcpt')\n",
        "s = ['{} :: {:.4f}'.format(names[i].rjust(7), values[i]) for i in range(len(values))]\n",
        "listToStr = '\\n'.join([str(elem) for elem in s])\n",
        "print(listToStr)\n",
        "\n",
        "## To calculate the R^2 score, the prediction of medv is calculate using the predict method.\n",
        "body_mass_g_pred = regr.predict(X)\n",
        "r2_value = r2_score(y, body_mass_g_pred)\n",
        "print('\\n{} :: {:.4f}'.format('R^2'.rjust(7), r2_value))"
      ]
    },
    {
      "cell_type": "code",
      "source": [
        "old_r2 = 0.7621\n",
        "new_r2 = 0.7639\n",
        "(new_r2-old_r2)/(1-old_r2)"
      ],
      "metadata": {
        "colab": {
          "base_uri": "https://localhost:8080/"
        },
        "id": "Lxs6lXAvEIvy",
        "outputId": "a09f41ee-be1a-4658-fb0d-481fdd6f0553"
      },
      "execution_count": null,
      "outputs": [
        {
          "output_type": "execute_result",
          "data": {
            "text/plain": [
              "0.007566204287515863"
            ]
          },
          "metadata": {},
          "execution_count": 6
        }
      ]
    },
    {
      "cell_type": "markdown",
      "source": [
        "The introduction of the totality of the variables in the linear regression model contributes to a slight growth of the $R^2$, increasing from 0.7621 to 0.7639, meaning that only 0.007566 of the variability in the single linear regression is explained by the addition of the other predictors. Therefore, we can conclude that the rest of the numerical predictors has minimal benefit in explaining the variance of the dependent variable."
      ],
      "metadata": {
        "id": "ixRORMOtY1eL"
      }
    },
    {
      "cell_type": "markdown",
      "metadata": {
        "id": "tHWzVTRoz7ye"
      },
      "source": [
        "**2.g)** Perform a multiple  linear regression considering `body_mass_g` as the response and using all predictors. Comment on the $R^2$ of this model."
      ]
    },
    {
      "cell_type": "code",
      "execution_count": null,
      "metadata": {
        "id": "ntg9Fut5z7ye",
        "colab": {
          "base_uri": "https://localhost:8080/"
        },
        "outputId": "96dcf457-30f1-4d24-f4a8-c734dc7a873b"
      },
      "outputs": [
        {
          "output_type": "stream",
          "name": "stdout",
          "text": [
            "intrcpt :: -1084.3208\n",
            "culmen_length_mm :: 18.1893\n",
            "culmen_depth_mm :: 67.5754\n",
            "flipper_length_mm :: 16.2385\n",
            "species_Adelie :: -242.4851\n",
            "species_Chinstrap :: -502.7913\n",
            "species_Gentoo :: 745.2764\n",
            "island_Biscoe :: 20.3889\n",
            "island_Dream :: 7.2858\n",
            "island_Torgersen :: -27.6747\n",
            "sex_FEMALE :: -193.6121\n",
            "sex_MALE :: 193.6121\n",
            "\n",
            "    R^2 :: 0.8752\n"
          ]
        }
      ],
      "source": [
        "from sklearn.linear_model import LinearRegression\n",
        "from sklearn.metrics import r2_score\n",
        "import pandas as pd\n",
        "\n",
        "def linear_regression_with_r2(df, body_mass_g):\n",
        "    # Seleciona todas as colunas exceto a variável de resposta\n",
        "    df = df.dropna()\n",
        "    X_df = df.drop(columns=[body_mass_g])\n",
        "\n",
        "    # Se há colunas não numéricas, realiza a codificação one-hot\n",
        "    if not X_df.select_dtypes(include=['float64', 'int64']).empty:\n",
        "        X_df = pd.get_dummies(X_df)\n",
        "\n",
        "    # Assign predictor and response variables\n",
        "    X = X_df.values\n",
        "    y = df[body_mass_g].values.reshape(-1, 1)\n",
        "\n",
        "    # Inicializa o modelo e ajusta os dados\n",
        "    regr = LinearRegression()\n",
        "    regr.fit(X, y)\n",
        "\n",
        "    # Formata e imprime os coeficientes e interceptação\n",
        "    values = list(regr.coef_[0])\n",
        "    values.insert(0, regr.intercept_[0])\n",
        "    names = list(X_df.columns.values)\n",
        "    names.insert(0, 'intrcpt')\n",
        "    s = ['{} :: {:.4f}'.format(names[i].rjust(7), values[i]) for i in range(len(values))]\n",
        "    list_to_str = '\\n'.join([str(elem) for elem in s])\n",
        "    print(list_to_str)\n",
        "\n",
        "    # Calcula e imprime o valor do R²\n",
        "    response_pred = regr.predict(X)\n",
        "    r2_value = r2_score(y, response_pred)\n",
        "    print('\\n{} :: {:.4f}'.format('R^2'.rjust(7), r2_value))\n",
        "\n",
        "# Exemplo de uso\n",
        "df = pd.read_csv(\"penguins_size.csv\")\n",
        "linear_regression_with_r2(df, 'body_mass_g')"
      ]
    },
    {
      "cell_type": "markdown",
      "source": [
        "esta alínea foi totalmente vista no chatgpt. gonçalo tens de ver"
      ],
      "metadata": {
        "id": "PXzcvRsaehRD"
      }
    },
    {
      "cell_type": "markdown",
      "metadata": {
        "id": "1xBHkVadQ5Ot"
      },
      "source": [
        "## Section 2 -- Classification"
      ]
    },
    {
      "cell_type": "markdown",
      "metadata": {
        "id": "SIpGTVYkRD9A"
      },
      "source": [
        "**3)** Suppose that a dataset is divided into two equally-sized training and test sets, and then try out two different classification procedures:\n",
        "\n",
        "* The first is the logistic regression, obtaining an error rate of 20% on the training data and 30% on the test data.\n",
        "* The second is a 1-nearest neighbors, with an average error rate (averaged over test and training datasets) of 18%.\n",
        "\n",
        "Based on these results, which method is preferred for classifying new observations? Why?"
      ]
    },
    {
      "cell_type": "markdown",
      "metadata": {
        "id": "4oPohcizBV3J"
      },
      "source": [
        "Deciding which method is preferred for classifying new observations based solely on error rates is not always sufficient, as error rates can be influenced by various factors.\n",
        "As in logistic regression, the error related to the training data is smaller than that of the test data, we can assume that the model may be overfitting since it works better with data already used, than with data never seen before.\n",
        "On the other hand, the average error related to de 1-nearest neighbors is lower than the logistic regression model, which indicates the model has a better overall performance in both datas.\n",
        "Even though, 1-NN is more likely to have a lower bias but higher variance compared to logistic regression, based non the provided information, this model is the one preferred for classifying new observations."
      ]
    },
    {
      "cell_type": "markdown",
      "metadata": {
        "id": "z0Ws08q_SVLO"
      },
      "source": [
        "**4.a)** Consider again the penguins dataset. However, the objective now is to predict the `sex` of the penguin based on the other variables. Split the data into test and training datasets. Consider a test dataset comprised of 30% of the whole dataset."
      ]
    },
    {
      "cell_type": "code",
      "execution_count": null,
      "metadata": {
        "id": "Zmk2OAC3w-W6",
        "colab": {
          "base_uri": "https://localhost:8080/"
        },
        "outputId": "ece8aa18-ae16-4e1f-ba10-03539e7b3a90"
      },
      "outputs": [
        {
          "output_type": "stream",
          "name": "stdout",
          "text": [
            "\n",
            "                   Actual\n",
            "                Male |  Female\n",
            "Predicted Male:  51  |  3\n",
            "Predicted Female:  3  |  43\n",
            "\n",
            "Success Rate: 94.00%\n"
          ]
        }
      ],
      "source": [
        "import pandas as pd\n",
        "from sklearn.model_selection import train_test_split\n",
        "from sklearn.linear_model import LogisticRegression\n",
        "from sklearn.metrics import confusion_matrix, accuracy_score\n",
        "from sklearn.preprocessing import StandardScaler, OneHotEncoder\n",
        "from sklearn.compose import ColumnTransformer\n",
        "from sklearn.pipeline import Pipeline\n",
        "\n",
        "# Carregar o conjunto de dados\n",
        "df = pd.read_csv(\"penguins_size.csv\")\n",
        "\n",
        "# Remover linhas onde qualquer coluna tem valores NaN\n",
        "df = df.dropna()\n",
        "\n",
        "# Definir as features e a variável alvo\n",
        "features = ['species', 'island', 'culmen_length_mm', 'culmen_depth_mm', 'flipper_length_mm', 'body_mass_g']\n",
        "target = 'sex'\n",
        "\n",
        "# Separar as features e a variável alvo\n",
        "X = df[features]\n",
        "y = df[target]\n",
        "\n",
        "# Dividir o conjunto de dados em treinamento e teste\n",
        "X_train, X_test, y_train, y_test = train_test_split(X, y, test_size=0.3, random_state=100)\n",
        "\n",
        "# Definir transformações para variáveis categóricas e numéricas\n",
        "numeric_features = ['culmen_length_mm', 'culmen_depth_mm', 'flipper_length_mm', 'body_mass_g']\n",
        "categorical_features = ['species', 'island']\n",
        "\n",
        "numeric_transformer = Pipeline(steps=[('scaler', StandardScaler())])\n",
        "\n",
        "categorical_transformer = Pipeline(steps=[('onehot', OneHotEncoder(handle_unknown='ignore'))])\n",
        "\n",
        "# Combinar transformações em um pré-processador\n",
        "preprocessor = ColumnTransformer(transformers=[('num', numeric_transformer, numeric_features),('cat', categorical_transformer, categorical_features)])\n",
        "\n",
        "# Criar e treinar o modelo de regressão logística\n",
        "model = Pipeline(steps=[('preprocessor', preprocessor),('classifier', LogisticRegression())])\n",
        "\n",
        "#Cria o modelo\n",
        "model.fit(X_train, y_train)\n",
        "\n",
        "# Calculo da matriz de confusão e previsão da classificação\n",
        "y_pred = model.predict(X_test)\n",
        "cm = confusion_matrix(y_test, y_pred)\n",
        "\n",
        "#Imprimir as variáveis\n",
        "print ('\\n' + 'Actual'.rjust(25))\n",
        "print ('{} |  {}'.format('Male'.rjust(20),'Female'))\n",
        "print ('{}:  {}  |  {}'.format('Predicted Male'.rjust(14), cm[0,0], cm[1,0]))\n",
        "print ('{}:  {}  |  {}'.format('Predicted Female'.rjust(14), cm[0,1], cm[1,1]))\n",
        "print('\\nSuccess Rate: {:.2f}%'.format(accuracy_score(y_test, y_pred)*100))"
      ]
    },
    {
      "cell_type": "markdown",
      "metadata": {
        "id": "IWepa-QISjbZ"
      },
      "source": [
        "**4.b)** Perform LDA on the training data in order to predict `sex` using the remaining variables. What is the test error of the model obtained?"
      ]
    },
    {
      "cell_type": "code",
      "execution_count": null,
      "metadata": {
        "id": "bQquLCRDyizP",
        "colab": {
          "base_uri": "https://localhost:8080/"
        },
        "outputId": "8c438cd3-21ff-49fe-9eec-fa60099dddd7"
      },
      "outputs": [
        {
          "output_type": "stream",
          "name": "stdout",
          "text": [
            "\n",
            "                   Actual\n",
            "                Male |  Female\n",
            "Predicted Male:  52  |  3\n",
            "Predicted Female:  2  |  43\n",
            "\n",
            "Success Rate: 95.00%\n"
          ]
        }
      ],
      "source": [
        "from sklearn.discriminant_analysis import LinearDiscriminantAnalysis\n",
        "# Criar e treinar o modelo LDA\n",
        "lda_model = LinearDiscriminantAnalysis()\n",
        "X_train_processed = preprocessor.fit_transform(X_train)\n",
        "lda_model.fit(X_train_processed, y_train)\n",
        "\n",
        "# Aplicar as transformações no conjunto de teste e prever\n",
        "X_test_processed = preprocessor.transform(X_test)\n",
        "y_pred = lda_model.predict(X_test_processed)\n",
        "\n",
        "# Calculo da matriz de confusão e previsão da classificação\n",
        "cm = confusion_matrix(y_test, y_pred)\n",
        "accuracy = accuracy_score(y_test, y_pred)\n",
        "\n",
        "#Imprimir as variáveis\n",
        "print ('\\n' + 'Actual'.rjust(25))\n",
        "print ('{} |  {}'.format('Male'.rjust(20),'Female'))\n",
        "print ('{}:  {}  |  {}'.format('Predicted Male'.rjust(14), cm[0,0], cm[1,0]))\n",
        "print ('{}:  {}  |  {}'.format('Predicted Female'.rjust(14), cm[0,1], cm[1,1]))\n",
        "print('\\nSuccess Rate: {:.2f}%'.format(accuracy_score(y_pred, y_test)*100))\n",
        "\n",
        "## Store the necessary variables\n",
        "cols_to_store = [i for i in range(len(lda_model.classes_)) if lda_model.classes_[i] == 'Male']\n",
        "y_LDA_pred = lda_model.predict_proba(X_test_processed)[:, cols_to_store]\n",
        "y_LDA_true = (y_test.copy() == 'Male').copy()"
      ]
    },
    {
      "cell_type": "markdown",
      "metadata": {
        "id": "YWiMguFvSjWE"
      },
      "source": [
        "**4.c)** Perform QDA on the training data in order to predict `sex` using the remaining variables. What is the test error of the model obtained?"
      ]
    },
    {
      "cell_type": "code",
      "execution_count": null,
      "metadata": {
        "id": "bvzDUm5sze_l",
        "colab": {
          "base_uri": "https://localhost:8080/",
          "height": 245
        },
        "outputId": "74f44f7a-39b1-4343-b22b-6df8b5b45a66"
      },
      "outputs": [
        {
          "output_type": "error",
          "ename": "NameError",
          "evalue": "ignored",
          "traceback": [
            "\u001b[0;31m---------------------------------------------------------------------------\u001b[0m",
            "\u001b[0;31mNameError\u001b[0m                                 Traceback (most recent call last)",
            "\u001b[0;32m<ipython-input-44-44bb69d65592>\u001b[0m in \u001b[0;36m<cell line: 5>\u001b[0;34m()\u001b[0m\n\u001b[1;32m      3\u001b[0m \u001b[0;31m# Criar e treinar o modelo QDA\u001b[0m\u001b[0;34m\u001b[0m\u001b[0;34m\u001b[0m\u001b[0m\n\u001b[1;32m      4\u001b[0m \u001b[0mqda_model\u001b[0m \u001b[0;34m=\u001b[0m \u001b[0mQuadraticDiscriminantAnalysis\u001b[0m\u001b[0;34m(\u001b[0m\u001b[0;34m)\u001b[0m\u001b[0;34m\u001b[0m\u001b[0;34m\u001b[0m\u001b[0m\n\u001b[0;32m----> 5\u001b[0;31m \u001b[0mX_train_processed\u001b[0m \u001b[0;34m=\u001b[0m \u001b[0mpreprocessor\u001b[0m\u001b[0;34m.\u001b[0m\u001b[0mfit_transform\u001b[0m\u001b[0;34m(\u001b[0m\u001b[0mX_train\u001b[0m\u001b[0;34m)\u001b[0m\u001b[0;34m\u001b[0m\u001b[0;34m\u001b[0m\u001b[0m\n\u001b[0m\u001b[1;32m      6\u001b[0m \u001b[0mqda_model\u001b[0m\u001b[0;34m.\u001b[0m\u001b[0mfit\u001b[0m\u001b[0;34m(\u001b[0m\u001b[0mX_train_processed\u001b[0m\u001b[0;34m,\u001b[0m \u001b[0my_train\u001b[0m\u001b[0;34m)\u001b[0m\u001b[0;34m\u001b[0m\u001b[0;34m\u001b[0m\u001b[0m\n\u001b[1;32m      7\u001b[0m \u001b[0;34m\u001b[0m\u001b[0m\n",
            "\u001b[0;31mNameError\u001b[0m: name 'preprocessor' is not defined"
          ]
        }
      ],
      "source": [
        "from sklearn.discriminant_analysis import QuadraticDiscriminantAnalysis\n",
        "# Criar e treinar o modelo QDA\n",
        "qda_model = QuadraticDiscriminantAnalysis()\n",
        "X_train_processed = preprocessor.fit_transform(X_train)\n",
        "qda_model.fit(X_train_processed, y_train)\n",
        "\n",
        "# Aplicar as transformações no conjunto de teste e prever\n",
        "X_test_processed = preprocessor.transform(X_test)\n",
        "y_pred = qda_model.predict(X_test_processed)\n",
        "\n",
        "# Calculo da matriz de confusão e previsão da classificação\n",
        "cm = confusion_matrix(y_test, y_pred)\n",
        "accuracy = accuracy_score(y_test, y_pred)\n",
        "\n",
        "#Imprimir as variáveis\n",
        "print ('\\n' + 'Actual'.rjust(25))\n",
        "print ('{} |  {}'.format('Male'.rjust(20),'Female'))\n",
        "print ('{}:  {}  |  {}'.format('Predicted Male'.rjust(14), cm[0,0], cm[1,0]))\n",
        "print ('{}:  {}  |  {}'.format('Predicted Female'.rjust(14), cm[0,1], cm[1,1]))\n",
        "print('\\nSuccess Rate: {:.2f}%'.format(accuracy_score(y_pred, y_test)*100))\n",
        "\n",
        "## Store the necessary variables\n",
        "cols_to_store = [i for i in range(len(qda_model.classes_)) if qda_model.classes_[i] == 'Male']\n",
        "y_QDA_pred = qda_model.predict_proba(X_test_processed)[:, cols_to_store]\n",
        "y_QDA_true = (y_test.copy() == 'Male').copy()"
      ]
    },
    {
      "cell_type": "markdown",
      "metadata": {
        "id": "DFAhEuhSSjOz"
      },
      "source": [
        "**4.d)** Perform logistic regression on the training data in order to predict `sex` using the remaining variables. What is the test error of the model obtained?"
      ]
    },
    {
      "cell_type": "code",
      "execution_count": null,
      "metadata": {
        "id": "7oVkI9QUzufY",
        "colab": {
          "base_uri": "https://localhost:8080/"
        },
        "outputId": "c00a4f8f-0913-4e5f-ac56-d16732b5a0c3"
      },
      "outputs": [
        {
          "output_type": "stream",
          "name": "stdout",
          "text": [
            "\n",
            "                   Actual\n",
            "                Male |  Female\n",
            "Predicted Male:  51  |  3\n",
            "Predicted Female:  3  |  43\n",
            "\n",
            "Success Rate: 94.00%\n"
          ]
        }
      ],
      "source": [
        "from sklearn.linear_model import LogisticRegression\n",
        "# Criar e treinar o modelo de Regressão Logística\n",
        "logreg_model = LogisticRegression()\n",
        "X_train_processed = preprocessor.fit_transform(X_train)\n",
        "logreg_model.fit(X_train_processed, y_train)\n",
        "\n",
        "# Aplicar as transformações no conjunto de teste e prever\n",
        "X_test_processed = preprocessor.transform(X_test)\n",
        "y_pred = logreg_model.predict(X_test_processed)\n",
        "\n",
        "# Calculo da matriz de confusão e previsão da classificação\n",
        "cm = confusion_matrix(y_test, y_pred)\n",
        "accuracy = accuracy_score(y_test, y_pred)\n",
        "\n",
        "#Imprimir as variáveis\n",
        "print ('\\n' + 'Actual'.rjust(25))\n",
        "print ('{} |  {}'.format('Male'.rjust(20),'Female'))\n",
        "print ('{}:  {}  |  {}'.format('Predicted Male'.rjust(14), cm[0,0], cm[1,0]))\n",
        "print ('{}:  {}  |  {}'.format('Predicted Female'.rjust(14), cm[0,1], cm[1,1]))\n",
        "print('\\nSuccess Rate: {:.2f}%'.format(accuracy_score(y_pred, y_test)*100))\n",
        "\n",
        "## Store the necessary variables\n",
        "cols_to_store = [i for i in range(len(logreg_model.classes_)) if logreg_model.classes_[i] == 'Male']\n",
        "y_logistic_pred = logreg_model.predict_proba(X_test_processed)[:, cols_to_store]\n",
        "y_logistic_true = (y_test.copy() == 'Male').copy()"
      ]
    },
    {
      "cell_type": "markdown",
      "source": [],
      "metadata": {
        "id": "hGXXbyzM3ufJ"
      }
    },
    {
      "cell_type": "markdown",
      "metadata": {
        "id": "dJUvW41ViqMc"
      },
      "source": [
        "**4.e)** Perform naive Bayes on the training data in order to predict `sex` using the remaining variables. What is the test error of the model obtained?"
      ]
    },
    {
      "cell_type": "code",
      "execution_count": null,
      "metadata": {
        "id": "U6pzjPGc1y_t",
        "colab": {
          "base_uri": "https://localhost:8080/"
        },
        "outputId": "80c256af-4235-471c-e4dd-cb07ae8dad48"
      },
      "outputs": [
        {
          "output_type": "stream",
          "name": "stdout",
          "text": [
            "\n",
            "                   Actual\n",
            "                Male |  Female\n",
            "Predicted Male:  47  |  7\n",
            "Predicted Female:  7  |  39\n",
            "\n",
            "Success Rate: 86.00%\n"
          ]
        }
      ],
      "source": [
        "from sklearn.naive_bayes import GaussianNB\n",
        "# Criar e treinar o modelo Naive Bayes Gaussiano\n",
        "nb_model = GaussianNB()\n",
        "X_train_processed = preprocessor.fit_transform(X_train)\n",
        "nb_model.fit(X_train_processed, y_train)\n",
        "\n",
        "# Aplicar as transformações no conjunto de teste e prever\n",
        "X_test_processed = preprocessor.transform(X_test)\n",
        "y_pred = nb_model.predict(X_test_processed)\n",
        "\n",
        "# Calculo da matriz de confusão e previsão da classificação\n",
        "cm = confusion_matrix(y_test, y_pred)\n",
        "accuracy = accuracy_score(y_test, y_pred)\n",
        "\n",
        "#Imprimir as variáveis\n",
        "print ('\\n' + 'Actual'.rjust(25))\n",
        "print ('{} |  {}'.format('Male'.rjust(20),'Female'))\n",
        "print ('{}:  {}  |  {}'.format('Predicted Male'.rjust(14), cm[0,0], cm[1,0]))\n",
        "print ('{}:  {}  |  {}'.format('Predicted Female'.rjust(14), cm[0,1], cm[1,1]))\n",
        "print('\\nSuccess Rate: {:.2f}%'.format(accuracy_score(y_pred, y_test)*100))\n",
        "\n",
        "## Store the necessary variables\n",
        "cols_to_store = [i for i in range(len(nb_model.classes_)) if nb_model.classes_[i] == 'Male']\n",
        "y_GNB_pred = nb_model.predict_proba(X_test_processed)[:, cols_to_store]\n",
        "y_GNB_true = (y_test.copy() == 'Male').copy()"
      ]
    },
    {
      "cell_type": "markdown",
      "metadata": {
        "id": "tPRBsCLviqKm"
      },
      "source": [
        "**4.f)** Perform KNN on the training data, with several values of K, in order to predict `sex`. What test errors are obtained? Which value of K seems to perform the best on this data set?"
      ]
    },
    {
      "cell_type": "markdown",
      "metadata": {
        "id": "nvhamoK0i2WZ"
      },
      "source": [
        "**4.g)** Plot the ROC curve and calculate the area under curve (AUC) for the LDA, QDA, logistic regression, naive Bayes and for the best value of K for the KNN method. Compare the results."
      ]
    },
    {
      "cell_type": "code",
      "execution_count": null,
      "metadata": {
        "id": "iNXZovNn8Wlv",
        "colab": {
          "base_uri": "https://localhost:8080/",
          "height": 407
        },
        "outputId": "92a64974-d3a4-4515-ab80-c1008a8f4ab9"
      },
      "outputs": [
        {
          "output_type": "error",
          "ename": "ValueError",
          "evalue": "ignored",
          "traceback": [
            "\u001b[0;31m---------------------------------------------------------------------------\u001b[0m",
            "\u001b[0;31mValueError\u001b[0m                                Traceback (most recent call last)",
            "\u001b[0;32m<ipython-input-65-30a2d7e6f81d>\u001b[0m in \u001b[0;36m<cell line: 5>\u001b[0;34m()\u001b[0m\n\u001b[1;32m      3\u001b[0m \u001b[0;34m\u001b[0m\u001b[0m\n\u001b[1;32m      4\u001b[0m \u001b[0;31m# Calculate ROC curves\u001b[0m\u001b[0;34m\u001b[0m\u001b[0;34m\u001b[0m\u001b[0m\n\u001b[0;32m----> 5\u001b[0;31m \u001b[0mlr_fpr\u001b[0m\u001b[0;34m,\u001b[0m \u001b[0mlr_tpr\u001b[0m\u001b[0;34m,\u001b[0m \u001b[0m_\u001b[0m \u001b[0;34m=\u001b[0m \u001b[0mroc_curve\u001b[0m\u001b[0;34m(\u001b[0m\u001b[0my_logistic_true\u001b[0m\u001b[0;34m,\u001b[0m \u001b[0my_logistic_pred\u001b[0m\u001b[0;34m)\u001b[0m\u001b[0;34m\u001b[0m\u001b[0;34m\u001b[0m\u001b[0m\n\u001b[0m\u001b[1;32m      6\u001b[0m \u001b[0mlr_fpr1\u001b[0m\u001b[0;34m,\u001b[0m \u001b[0mlr_tpr1\u001b[0m\u001b[0;34m,\u001b[0m \u001b[0m_\u001b[0m \u001b[0;34m=\u001b[0m \u001b[0mroc_curve\u001b[0m\u001b[0;34m(\u001b[0m\u001b[0my_LDA_true\u001b[0m\u001b[0;34m,\u001b[0m \u001b[0my_LDA_pred\u001b[0m\u001b[0;34m)\u001b[0m\u001b[0;34m\u001b[0m\u001b[0;34m\u001b[0m\u001b[0m\n\u001b[1;32m      7\u001b[0m \u001b[0mlr_fpr2\u001b[0m\u001b[0;34m,\u001b[0m \u001b[0mlr_tpr2\u001b[0m\u001b[0;34m,\u001b[0m \u001b[0m_\u001b[0m \u001b[0;34m=\u001b[0m \u001b[0mroc_curve\u001b[0m\u001b[0;34m(\u001b[0m\u001b[0my_QDA_true\u001b[0m\u001b[0;34m,\u001b[0m \u001b[0my_QDA_pred\u001b[0m\u001b[0;34m)\u001b[0m\u001b[0;34m\u001b[0m\u001b[0;34m\u001b[0m\u001b[0m\n",
            "\u001b[0;32m/usr/local/lib/python3.10/dist-packages/sklearn/metrics/_ranking.py\u001b[0m in \u001b[0;36mroc_curve\u001b[0;34m(y_true, y_score, pos_label, sample_weight, drop_intermediate)\u001b[0m\n\u001b[1;32m    990\u001b[0m     \u001b[0marray\u001b[0m\u001b[0;34m(\u001b[0m\u001b[0;34m[\u001b[0m\u001b[0;36m1.8\u001b[0m \u001b[0;34m,\u001b[0m \u001b[0;36m0.8\u001b[0m \u001b[0;34m,\u001b[0m \u001b[0;36m0.4\u001b[0m \u001b[0;34m,\u001b[0m \u001b[0;36m0.35\u001b[0m\u001b[0;34m,\u001b[0m \u001b[0;36m0.1\u001b[0m \u001b[0;34m]\u001b[0m\u001b[0;34m)\u001b[0m\u001b[0;34m\u001b[0m\u001b[0;34m\u001b[0m\u001b[0m\n\u001b[1;32m    991\u001b[0m     \"\"\"\n\u001b[0;32m--> 992\u001b[0;31m     fps, tps, thresholds = _binary_clf_curve(\n\u001b[0m\u001b[1;32m    993\u001b[0m         \u001b[0my_true\u001b[0m\u001b[0;34m,\u001b[0m \u001b[0my_score\u001b[0m\u001b[0;34m,\u001b[0m \u001b[0mpos_label\u001b[0m\u001b[0;34m=\u001b[0m\u001b[0mpos_label\u001b[0m\u001b[0;34m,\u001b[0m \u001b[0msample_weight\u001b[0m\u001b[0;34m=\u001b[0m\u001b[0msample_weight\u001b[0m\u001b[0;34m\u001b[0m\u001b[0;34m\u001b[0m\u001b[0m\n\u001b[1;32m    994\u001b[0m     )\n",
            "\u001b[0;32m/usr/local/lib/python3.10/dist-packages/sklearn/metrics/_ranking.py\u001b[0m in \u001b[0;36m_binary_clf_curve\u001b[0;34m(y_true, y_score, pos_label, sample_weight)\u001b[0m\n\u001b[1;32m    751\u001b[0m     \u001b[0mcheck_consistent_length\u001b[0m\u001b[0;34m(\u001b[0m\u001b[0my_true\u001b[0m\u001b[0;34m,\u001b[0m \u001b[0my_score\u001b[0m\u001b[0;34m,\u001b[0m \u001b[0msample_weight\u001b[0m\u001b[0;34m)\u001b[0m\u001b[0;34m\u001b[0m\u001b[0;34m\u001b[0m\u001b[0m\n\u001b[1;32m    752\u001b[0m     \u001b[0my_true\u001b[0m \u001b[0;34m=\u001b[0m \u001b[0mcolumn_or_1d\u001b[0m\u001b[0;34m(\u001b[0m\u001b[0my_true\u001b[0m\u001b[0;34m)\u001b[0m\u001b[0;34m\u001b[0m\u001b[0;34m\u001b[0m\u001b[0m\n\u001b[0;32m--> 753\u001b[0;31m     \u001b[0my_score\u001b[0m \u001b[0;34m=\u001b[0m \u001b[0mcolumn_or_1d\u001b[0m\u001b[0;34m(\u001b[0m\u001b[0my_score\u001b[0m\u001b[0;34m)\u001b[0m\u001b[0;34m\u001b[0m\u001b[0;34m\u001b[0m\u001b[0m\n\u001b[0m\u001b[1;32m    754\u001b[0m     \u001b[0massert_all_finite\u001b[0m\u001b[0;34m(\u001b[0m\u001b[0my_true\u001b[0m\u001b[0;34m)\u001b[0m\u001b[0;34m\u001b[0m\u001b[0;34m\u001b[0m\u001b[0m\n\u001b[1;32m    755\u001b[0m     \u001b[0massert_all_finite\u001b[0m\u001b[0;34m(\u001b[0m\u001b[0my_score\u001b[0m\u001b[0;34m)\u001b[0m\u001b[0;34m\u001b[0m\u001b[0;34m\u001b[0m\u001b[0m\n",
            "\u001b[0;32m/usr/local/lib/python3.10/dist-packages/sklearn/utils/validation.py\u001b[0m in \u001b[0;36mcolumn_or_1d\u001b[0;34m(y, dtype, warn)\u001b[0m\n\u001b[1;32m   1177\u001b[0m     \"\"\"\n\u001b[1;32m   1178\u001b[0m     \u001b[0mxp\u001b[0m\u001b[0;34m,\u001b[0m \u001b[0m_\u001b[0m \u001b[0;34m=\u001b[0m \u001b[0mget_namespace\u001b[0m\u001b[0;34m(\u001b[0m\u001b[0my\u001b[0m\u001b[0;34m)\u001b[0m\u001b[0;34m\u001b[0m\u001b[0;34m\u001b[0m\u001b[0m\n\u001b[0;32m-> 1179\u001b[0;31m     y = check_array(\n\u001b[0m\u001b[1;32m   1180\u001b[0m         \u001b[0my\u001b[0m\u001b[0;34m,\u001b[0m\u001b[0;34m\u001b[0m\u001b[0;34m\u001b[0m\u001b[0m\n\u001b[1;32m   1181\u001b[0m         \u001b[0mensure_2d\u001b[0m\u001b[0;34m=\u001b[0m\u001b[0;32mFalse\u001b[0m\u001b[0;34m,\u001b[0m\u001b[0;34m\u001b[0m\u001b[0;34m\u001b[0m\u001b[0m\n",
            "\u001b[0;32m/usr/local/lib/python3.10/dist-packages/sklearn/utils/validation.py\u001b[0m in \u001b[0;36mcheck_array\u001b[0;34m(array, accept_sparse, accept_large_sparse, dtype, order, copy, force_all_finite, ensure_2d, allow_nd, ensure_min_samples, ensure_min_features, estimator, input_name)\u001b[0m\n\u001b[1;32m    938\u001b[0m         \u001b[0mn_features\u001b[0m \u001b[0;34m=\u001b[0m \u001b[0marray\u001b[0m\u001b[0;34m.\u001b[0m\u001b[0mshape\u001b[0m\u001b[0;34m[\u001b[0m\u001b[0;36m1\u001b[0m\u001b[0;34m]\u001b[0m\u001b[0;34m\u001b[0m\u001b[0;34m\u001b[0m\u001b[0m\n\u001b[1;32m    939\u001b[0m         \u001b[0;32mif\u001b[0m \u001b[0mn_features\u001b[0m \u001b[0;34m<\u001b[0m \u001b[0mensure_min_features\u001b[0m\u001b[0;34m:\u001b[0m\u001b[0;34m\u001b[0m\u001b[0;34m\u001b[0m\u001b[0m\n\u001b[0;32m--> 940\u001b[0;31m             raise ValueError(\n\u001b[0m\u001b[1;32m    941\u001b[0m                 \u001b[0;34m\"Found array with %d feature(s) (shape=%s) while\"\u001b[0m\u001b[0;34m\u001b[0m\u001b[0;34m\u001b[0m\u001b[0m\n\u001b[1;32m    942\u001b[0m                 \u001b[0;34m\" a minimum of %d is required%s.\"\u001b[0m\u001b[0;34m\u001b[0m\u001b[0;34m\u001b[0m\u001b[0m\n",
            "\u001b[0;31mValueError\u001b[0m: Found array with 0 feature(s) (shape=(100, 0)) while a minimum of 1 is required."
          ]
        }
      ],
      "source": [
        "from sklearn.metrics import roc_curve\n",
        "from sklearn.metrics import roc_auc_score\n",
        "\n",
        "# Calculate ROC curves\n",
        "lr_fpr, lr_tpr, _ = roc_curve(y_logistic_true, y_logistic_pred)\n",
        "lr_fpr1, lr_tpr1, _ = roc_curve(y_LDA_true, y_LDA_pred)\n",
        "lr_fpr2, lr_tpr2, _ = roc_curve(y_QDA_true, y_QDA_pred)\n",
        "lr_fpr3, lr_tpr3, _ = roc_curve(y_GNB_true, y_GNB_pred)\n",
        "#lr_fpr4, lr_tpr4, _ = roc_curve(y_KNN_true, y_KNN_pred)\n",
        "\n",
        "# Plot the ROC curve for the model\n",
        "plt.subplots(figsize=(15, 6))\n",
        "plt.plot([0,1], [0,1], linestyle='--', label = 'Base')\n",
        "plt.plot(lr_fpr, lr_tpr, marker='.', label = 'Logistic Regression')\n",
        "plt.plot(lr_fpr1, lr_tpr1, marker='.', label = 'LDA')\n",
        "plt.plot(lr_fpr2, lr_tpr2, marker='.', label = 'QDA')\n",
        "plt.plot(lr_fpr3, lr_tpr3, marker='.', label = 'Naive Bayes')\n",
        "plt.plot(lr_fpr4, lr_tpr4, marker='.', label = 'KNN')\n",
        "\n",
        "# Axis Labels\n",
        "plt.legend()\n",
        "plt.xlabel('False Positive Rate')\n",
        "plt.ylabel('True Positive Rate')\n",
        "plt.show()\n",
        "\n",
        "# Print scores of Area under curve (AUC)\n",
        "print('AUC'.rjust(25))\n",
        "print('{}: {:.3f}'.format('Logistic Regression'.rjust(19), roc_auc_score(y_logistic_true, y_logistic_pred)))\n",
        "print('{}: {:.3f}'.format('LDA'.rjust(19), roc_auc_score(y_LDA_true, y_LDA_pred)))\n",
        "print('{}: {:.3f}'.format('QDA'.rjust(19), roc_auc_score(y_QDA_true, y_QDA_pred)))\n",
        "print('{}: {:.3f}'.format('Naive Bayes'.rjust(19), roc_auc_score(y_GNB_true, y_GNB_pred)))\n",
        "print('{}: {:.3f}'.format('KNN'.rjust(19), roc_auc_score(y_KNN_true, y_KNN_pred)))"
      ]
    },
    {
      "cell_type": "markdown",
      "metadata": {
        "id": "jEtBKnHni2GT"
      },
      "source": [
        "## Section 3 -- Bootstrap and k-Fold"
      ]
    },
    {
      "cell_type": "markdown",
      "metadata": {
        "id": "AyCSRMx2pDsm"
      },
      "source": [
        "**5.a)** Explain how k-fold cross-validation is implemented."
      ]
    },
    {
      "cell_type": "markdown",
      "metadata": {
        "id": "Bh8t6HC49HIl"
      },
      "source": [
        "First you select the number of sets the dataset should be divided into (K). After this the dataset is divided into K equal folds. The wanted machine learning model is then trained and assessed K times, with each time using a different fold as the validation set. To estimate the model's generalization performance, performance metrics from each fold are averaged."
      ]
    },
    {
      "cell_type": "markdown",
      "metadata": {
        "id": "MbIethdmpcwr"
      },
      "source": [
        "**5.b)** What are the advantages and disadvantages of k-Fold cross-validation relative to:\n",
        "\n",
        "1. Validation set approach.\n",
        "2. Leave One Out Cross-Validation (LOOCV)."
      ]
    },
    {
      "cell_type": "markdown",
      "metadata": {
        "id": "F_U7i3m1MYWh"
      },
      "source": [
        "1.\n",
        "Advantages:\n",
        "\n",
        "\n",
        "*   K-Fold reduces the possibility of the validation set comprising of datapoints that do not represent the overall data well because it does multiple splits, which is not the case with the validation set approach, which relies heavily on one split\n",
        "*   K-Fold helps the model to generalize better as it's trained and tested on different subsets of the data rather than just one, like the validation set approach does, providing a more comprehensive evaluation of the model's performance\n",
        "\n",
        "Disadvantages:\n",
        "\n",
        "* As K-Fold requires training and evaluation of the model K times, it will be more computationally expensive than the one split that the validation set approach does. This is especially when the dataset it larger\n",
        "* The training time of K-Fold is much higher than the one of validation set approaches, this is can be seen especially when the model is more complex\n",
        "\n",
        "2.\n",
        "Advantages:\n",
        "\n",
        "* K-Folds is much more computationally efficient compared to LOOCV as LOOCV does as many splits as there are datapoints, making it basically unusable in really big datasets\n",
        "\n",
        "* K-Folds is less sensitive to outliers, as the each fold represents a smaller subset of data than the one of LOOCV, which uses almost all data in each training iteration\n",
        "\n",
        "Disadvantages:\n",
        "\n",
        "* K-Fold has higher bias compared to LOOCV as the model is trained with with less data\n",
        "\n",
        "* K-Fold is less suitable for smaller datasets where the use of available data for training should be maximized. LOOCV excels at this\n"
      ]
    },
    {
      "cell_type": "markdown",
      "metadata": {
        "id": "jOcCUxFMpAGw"
      },
      "source": [
        "## Section 4 -- Other Questions"
      ]
    },
    {
      "cell_type": "markdown",
      "metadata": {
        "id": "jUkJU0D7pFWO"
      },
      "source": [
        "**6)** In your group's option, what are the advantages and disadvantages of using a virtual environment when programming in Python?"
      ]
    },
    {
      "cell_type": "markdown",
      "metadata": {
        "id": "4gyfaAIi9KVM"
      },
      "source": [
        "Advantages:\n",
        "\n",
        "\n",
        "*   Throught virtual evironments you can isolate project specific dependencies, meaning that libraries and packages needed in one project do not interfere with the same packages in another project. I.E if you need in one project Numpy 3.1.2 and in another project because of dependencies you need Numpy 3.2.1, the're is no need to uninstall and re install numpy with different version\n",
        "*   You can also isolate the Python intrepeter per project similiar to different libraries and packages\n",
        "* Makes documentation of requirements easier as virtual enviroments creates a requirements.txt file which includes dependencies and libraries of the environment\n",
        "\n",
        "Disadvantages:\n",
        "* The're is a learning curve in the beginning, especially when not using anaconda navigator and being forced to use the command line for the first time\n",
        "\n",
        "* Having multiple virtual environments consumes storage space from your computer\n",
        "\n"
      ]
    },
    {
      "cell_type": "markdown",
      "metadata": {
        "id": "W8dWu7BXpFTc"
      },
      "source": [
        "**7)** In your group's opinion, in what circumstances is it better to use Jupyter Notebooks and when is it better to use Google Colab notebooks? Give some specific examples."
      ]
    },
    {
      "cell_type": "markdown",
      "metadata": {
        "id": "rtVRKNrS9vYB"
      },
      "source": [
        "Better to use Jupyter Notebooks:\n",
        "\n",
        "\n",
        "*   When dealing with important code, that can in no circumstance be subject to cyber security breaches like sensitive goverment data\n",
        "*   When internet is not available for example in planes\n",
        "* When needing specific libraries or dependencies that might not be available on the default version of Colab environment\n",
        "* When you're out of google drive memory\n",
        "\n",
        "\n",
        "Better to use Google Colab notebooks:\n",
        "\n",
        "* When doing computionally heavy coding such as Machine Learning or especially Deep Learning, which requires GPU's and/or TPU's\n",
        "* When doing school projects where online collaboration is preferred, as multiple users can work on the same notebook simultaniously\n",
        "* When running out of local memory on computer\n",
        "* When having problems with installing different libraries\n"
      ]
    },
    {
      "cell_type": "markdown",
      "metadata": {
        "id": "Sl0krfG6pFH6"
      },
      "source": [
        "**8)** Enter your GitHub repository webpage."
      ]
    },
    {
      "cell_type": "code",
      "source": [],
      "metadata": {
        "id": "gy7fU5cwtpXI"
      },
      "execution_count": null,
      "outputs": []
    }
  ],
  "metadata": {
    "colab": {
      "name": "Lab2_assignment_solved.ipynb",
      "provenance": []
    },
    "kernelspec": {
      "display_name": "Python 3 (ipykernel)",
      "language": "python",
      "name": "python3"
    },
    "language_info": {
      "codemirror_mode": {
        "name": "ipython",
        "version": 3
      },
      "file_extension": ".py",
      "mimetype": "text/x-python",
      "name": "python",
      "nbconvert_exporter": "python",
      "pygments_lexer": "ipython3",
      "version": "3.8.18"
    }
  },
  "nbformat": 4,
  "nbformat_minor": 0
}